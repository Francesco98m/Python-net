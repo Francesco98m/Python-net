{
 "cells": [
  {
   "cell_type": "code",
   "execution_count": 2,
   "metadata": {},
   "outputs": [],
   "source": [
    "import random\n",
    "import csv"
   ]
  },
  {
   "cell_type": "code",
   "execution_count": 3,
   "metadata": {},
   "outputs": [
    {
     "data": {
      "text/plain": [
       "11"
      ]
     },
     "execution_count": 3,
     "metadata": {},
     "output_type": "execute_result"
    }
   ],
   "source": [
    "f = open(\"/home/burrito/Documents/python/pytorch/green_red/data.csv\", 'w+', newline='')\n",
    "writer = csv.writer(f)\n",
    "writer.writerow([\"x\", \"y\", \"color\"])"
   ]
  },
  {
   "cell_type": "code",
   "execution_count": 4,
   "metadata": {},
   "outputs": [],
   "source": [
    "for i in range(10000):\n",
    "    x = random.uniform(-1., 1.)\n",
    "    y = random.uniform(-1, 1.)\n",
    "    if (x < 0):\n",
    "        color = 0  # green\n",
    "    else:\n",
    "        color = 1  # red\n",
    "    if (x > -0.3 and x < 0.3):\n",
    "        if (random.uniform(0., 1.) < 0.2):\n",
    "            if(color == 1):\n",
    "                color = 0\n",
    "            else:\n",
    "                color = 1\n",
    "    writer.writerow([x, y, color])"
   ]
  },
  {
   "cell_type": "code",
   "execution_count": null,
   "metadata": {},
   "outputs": [],
   "source": []
  }
 ],
 "metadata": {
  "kernelspec": {
   "display_name": "Python 3",
   "language": "python",
   "name": "python3"
  },
  "language_info": {
   "codemirror_mode": {
    "name": "ipython",
    "version": 3
   },
   "file_extension": ".py",
   "mimetype": "text/x-python",
   "name": "python",
   "nbconvert_exporter": "python",
   "pygments_lexer": "ipython3",
   "version": "3.7.4"
  }
 },
 "nbformat": 4,
 "nbformat_minor": 4
}
