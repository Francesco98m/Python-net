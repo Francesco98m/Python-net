{
 "cells": [
  {
   "cell_type": "code",
   "execution_count": 66,
   "metadata": {},
   "outputs": [],
   "source": [
    "import torch\n",
    "import numpy as np\n",
    "import pandas as pd\n",
    "import random as rd\n",
    "import csv"
   ]
  },
  {
   "cell_type": "code",
   "execution_count": 67,
   "metadata": {},
   "outputs": [],
   "source": [
    "# default stuff\n",
    "dtype = torch.double\n",
    "device = torch.device(\"cpu\")\n",
    "\n",
    "# architecture definition\n",
    "N_in, N_hid, N_out = 2, 10, 2\n",
    "batch_size = 200\n",
    "learning_rate = 0.001\n",
    "\n",
    "#weight matrix\n",
    "w1 = torch.randn(N_in, N_hid, device=device, dtype=dtype, requires_grad=True)\n",
    "w2 = torch.randn(N_hid, N_out, device=device, dtype=dtype, requires_grad=True)"
   ]
  },
  {
   "cell_type": "code",
   "execution_count": 68,
   "metadata": {},
   "outputs": [],
   "source": [
    "# data manipulation\n",
    "# ho cambiato il file così ora sono 0 e 1 i colori\n",
    "data = pd.read_csv('/home/burrito/Documents/python/pytorch/green_red/data_train.csv')\n",
    "test = pd.read_csv('/home/burrito/Documents/python/pytorch/green_red/data_test.csv')\n",
    "data_np_x = data[['x', 'y']].to_numpy()\n",
    "data_np_y = data[['color']].to_numpy()\n",
    "data_test = test.to_numpy()"
   ]
  },
  {
   "cell_type": "code",
   "execution_count": 69,
   "metadata": {},
   "outputs": [],
   "source": [
    "batchesX = np.asarray(np.array_split(data_np_x, 100))\n",
    "batchesY = np.asarray(np.array_split(data_np_y, 100))"
   ]
  },
  {
   "cell_type": "code",
   "execution_count": 70,
   "metadata": {},
   "outputs": [],
   "source": [
    "Xtr = torch.from_numpy(batchesX[2])\n",
    "Ytr = torch.from_numpy(batchesY[2])\n",
    "Xtest = torch.from_numpy(data_test)"
   ]
  },
  {
   "cell_type": "code",
   "execution_count": 71,
   "metadata": {},
   "outputs": [
    {
     "name": "stdout",
     "output_type": "stream",
     "text": [
      "0 5.403244883753766\n",
      "10000 4.903159580926782\n",
      "20000 4.832574211597049\n",
      "30000 4.882154499869487\n",
      "40000 4.746997983824702\n",
      "50000 4.7802877797184\n",
      "60000 4.776295445582914\n",
      "70000 4.726057235307319\n",
      "80000 4.716718953685786\n",
      "90000 4.704618493001158\n"
     ]
    }
   ],
   "source": [
    "for epoch in range(100000):\n",
    "    b = rd.randint(0, 99)\n",
    "    Xtr = torch.from_numpy(batchesX[b])\n",
    "    Ytr = torch.from_numpy(batchesY[b])\n",
    "    y = Xtr.mm(w1).clamp(min=0).mm(w2)\n",
    "    # ho provato a fare la cross-entropy ma non va, la \n",
    "    # la loss viene sempre uguale\n",
    "    s = torch.gather(y, 1, Ytr) # gather serve a indicizzare y in base a Ytr\n",
    "    loss = ((-((s.exp())/(y.exp().sum())).log())).sum()\n",
    "    # questo valore qui sotto è a caso ma dovrebbe essere circa la lunghezza\n",
    "    # di una batch\n",
    "    loss = loss/100\n",
    "    if epoch%10000 == 0:\n",
    "        print(epoch, loss.item())\n",
    "    loss.backward()\n",
    "    with torch.no_grad():\n",
    "        w1 -= learning_rate*w1.grad\n",
    "        w2 -= learning_rate*w2.grad\n",
    "        w1.grad.zero_()\n",
    "        w2.grad.zero_()"
   ]
  },
  {
   "cell_type": "code",
   "execution_count": 73,
   "metadata": {},
   "outputs": [
    {
     "name": "stdout",
     "output_type": "stream",
     "text": [
      "tensor([ 0.7026, -0.7593], dtype=torch.float64)\n"
     ]
    }
   ],
   "source": [
    "print(Xtest[0])\n",
    "prediction = Xtest.mm(w1).clamp(min=0).mm(w2)"
   ]
  },
  {
   "cell_type": "code",
   "execution_count": 76,
   "metadata": {},
   "outputs": [],
   "source": [
    "pred = open(\"/home/burrito/Documents/python/pytorch/green_red/pred.csv\", 'w+', newline='')\n",
    "writer = csv.writer(pred)\n",
    "writer.writerow([\"color\"])\n",
    "for i in prediction:\n",
    "    if (i[0]<i[1]):\n",
    "        writer.writerow([\"1\"])\n",
    "    else:\n",
    "        writer.writerow([\"0\"])"
   ]
  }
 ],
 "metadata": {
  "kernelspec": {
   "display_name": "Python 3",
   "language": "python",
   "name": "python3"
  },
  "language_info": {
   "codemirror_mode": {
    "name": "ipython",
    "version": 3
   },
   "file_extension": ".py",
   "mimetype": "text/x-python",
   "name": "python",
   "nbconvert_exporter": "python",
   "pygments_lexer": "ipython3",
   "version": "3.7.4"
  }
 },
 "nbformat": 4,
 "nbformat_minor": 4
}
