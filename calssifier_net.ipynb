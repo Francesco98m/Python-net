{
 "cells": [
  {
   "cell_type": "code",
   "execution_count": 87,
   "metadata": {},
   "outputs": [],
   "source": [
    "import torch\n",
    "import numpy as np\n",
    "import pandas as pd\n",
    "import random as rd"
   ]
  },
  {
   "cell_type": "code",
   "execution_count": 88,
   "metadata": {},
   "outputs": [],
   "source": [
    "# default stuff\n",
    "dtype = torch.double\n",
    "device = torch.device(\"cpu\")\n",
    "\n",
    "# architecture definition\n",
    "N_in, N_hid, N_out = 2, 3, 2\n",
    "batch_size = 200\n",
    "learning_rate = 1e-6\n",
    "\n",
    "#weight matrix\n",
    "w1 = torch.randn(N_in, N_hid, device=device, dtype=dtype, requires_grad=True)\n",
    "w2 = torch.randn(N_hid, N_out, device=device, dtype=dtype, requires_grad=True)"
   ]
  },
  {
   "cell_type": "code",
   "execution_count": 89,
   "metadata": {},
   "outputs": [],
   "source": [
    "# data manipulation\n",
    "# ho cambiato il file così ora sono 0 e 1 i colori\n",
    "data = pd.read_csv('/home/burrito/Documents/python/pytorch/green_red/data.csv')\n",
    "data_np_x = data[['x', 'y']].to_numpy()\n",
    "data_np_y = data[['color']].to_numpy()"
   ]
  },
  {
   "cell_type": "code",
   "execution_count": 90,
   "metadata": {},
   "outputs": [],
   "source": [
    "batchesX = np.asarray(np.array_split(data_np_x, 100))\n",
    "batchesY = np.asarray(np.array_split(data_np_y, 100))"
   ]
  },
  {
   "cell_type": "code",
   "execution_count": 91,
   "metadata": {},
   "outputs": [
    {
     "name": "stdout",
     "output_type": "stream",
     "text": [
      "99 -0.3029716257047302\n",
      "199 -0.38938685571567966\n",
      "299 -0.3800498006253663\n",
      "399 -0.28992588440977074\n",
      "499 -0.2899276092340684\n",
      "599 -0.39174923102654996\n",
      "699 -0.30770640866763144\n",
      "799 -0.3010648811918725\n",
      "899 -0.21733477132642873\n",
      "999 -0.31120022815829074\n"
     ]
    }
   ],
   "source": [
    "for epoch in range(1000):\n",
    "    b = rd.randint(0, 99)\n",
    "    Xtr = torch.from_numpy(batchesX[b])\n",
    "    Ytr = torch.from_numpy(batchesY[b])\n",
    "    y = Xtr.mm(w1).clamp(min=0).mm(w2)\n",
    "    # ho provato a fare la cross-entropy ma non va, la \n",
    "    # la loss viene negativa\n",
    "    loss = (-((y[Ytr].exp())/(y.exp().sum()).log())).sum()\n",
    "    # questo valore qui sotto è a caso ma dovrebbe essere circa la lunghezza\n",
    "    # di una batch\n",
    "    loss = loss/100\n",
    "    if epoch%100 == 99:\n",
    "        print(epoch, loss.item())\n",
    "    loss.backward()\n",
    "    with torch.no_grad():\n",
    "        w1 -= learning_rate*w1.grad\n",
    "        w2 -= learning_rate*w2.grad\n",
    "        w1.grad.zero_()\n",
    "        w2.grad.zero_()\n"
   ]
  },
  {
   "cell_type": "code",
   "execution_count": null,
   "metadata": {},
   "outputs": [],
   "source": []
  }
 ],
 "metadata": {
  "kernelspec": {
   "display_name": "Python 3",
   "language": "python",
   "name": "python3"
  },
  "language_info": {
   "codemirror_mode": {
    "name": "ipython",
    "version": 3
   },
   "file_extension": ".py",
   "mimetype": "text/x-python",
   "name": "python",
   "nbconvert_exporter": "python",
   "pygments_lexer": "ipython3",
   "version": "3.7.4"
  }
 },
 "nbformat": 4,
 "nbformat_minor": 4
}
