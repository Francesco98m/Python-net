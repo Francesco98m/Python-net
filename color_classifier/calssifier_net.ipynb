{
 "cells": [
  {
   "cell_type": "code",
   "execution_count": 1,
   "metadata": {},
   "outputs": [],
   "source": [
    "import torch\n",
    "import numpy as np\n",
    "import pandas as pd\n",
    "import random as rd\n",
    "import functions as ls\n",
    "import csv"
   ]
  },
  {
   "cell_type": "code",
   "execution_count": 2,
   "metadata": {},
   "outputs": [],
   "source": [
    "# default stuff\n",
    "dtype = torch.double\n",
    "device = torch.device(\"cpu\")\n",
    "\n",
    "# architecture definition\n",
    "N_in, N_hid, N_out = 2, 100, 3\n",
    "learning_rate = 1e-0\n",
    "\n",
    "#weight matrix\n",
    "w1 = torch.randn(N_hid, N_in, device=device, dtype=dtype, requires_grad=True)\n",
    "w2 = torch.randn(N_out, N_hid, device=device, dtype=dtype, requires_grad=True)\n",
    "#biases\n",
    "b1 = torch.zeros(N_hid, 1, device=device, dtype=dtype, requires_grad=True)\n",
    "b2 = torch.zeros(N_out, 1, device=device, dtype=dtype, requires_grad=True)"
   ]
  },
  {
   "cell_type": "code",
   "execution_count": 3,
   "metadata": {},
   "outputs": [],
   "source": [
    "# data manipulation\n",
    "# ho cambiato il file così ora sono 0 e 1 i colori\n",
    "data = pd.read_csv('/home/burrito/Documents/python/pytorch/Python-net/color_classifier/data_train_s.csv')\n",
    "test = pd.read_csv('/home/burrito/Documents/python/pytorch/Python-net/color_classifier/data_test_s.csv')\n",
    "data_np_x = data[['0', '1']].to_numpy()\n",
    "data_np_y = data[['2']].to_numpy()\n",
    "data_test = test[['0', '1']].to_numpy()\n",
    "data_np_y = data_np_y.astype(int)"
   ]
  },
  {
   "cell_type": "code",
   "execution_count": 4,
   "metadata": {},
   "outputs": [
    {
     "name": "stdout",
     "output_type": "stream",
     "text": [
      "(2, 300) (1, 300)\n"
     ]
    }
   ],
   "source": [
    "data_np_x = data_np_x.transpose()\n",
    "data_np_y = data_np_y.transpose()\n",
    "data_test = data_test.transpose()\n",
    "print(data_np_x.shape, data_np_y.shape)"
   ]
  },
  {
   "cell_type": "code",
   "execution_count": 5,
   "metadata": {},
   "outputs": [],
   "source": [
    "batchesX = np.asarray(np.array_split(data_np_x, 6, axis=1))\n",
    "batchesY = np.asarray(np.array_split(data_np_y, 6, axis=1))"
   ]
  },
  {
   "cell_type": "code",
   "execution_count": 6,
   "metadata": {},
   "outputs": [],
   "source": [
    "Xtest = torch.from_numpy(data_test)"
   ]
  },
  {
   "cell_type": "code",
   "execution_count": 7,
   "metadata": {},
   "outputs": [
    {
     "name": "stdout",
     "output_type": "stream",
     "text": [
      "0 12.522450305247295\n",
      "100 4.650218043221837\n",
      "200 5.565405872565498\n",
      "300 8.033413895670432\n",
      "400 4.883940908611376\n"
     ]
    }
   ],
   "source": [
    "for epoch in range(500):\n",
    "    b = rd.randint(0, 5)\n",
    "    Xtr = torch.from_numpy(batchesX[b])\n",
    "    Ytr = torch.from_numpy(batchesY[b])\n",
    "    y = (w1.mm(Xtr) + b1).clamp(min=0)\n",
    "    y = w2.mm(y) + b2\n",
    "    # SVM loss\n",
    "    # loss = ls.SVM_loss(y, Ytr)\n",
    "    # cross entropy loss\n",
    "    loss = ls.cross_entropy(y, Ytr) + 0.5 * ls.regularization_loss(w1, w2)\n",
    "    # print(loss.shape, ls.regularization_loss(w1, w2).shape)\n",
    "    if epoch%100 == 0:\n",
    "        print(epoch, loss.item())\n",
    "    loss.backward()\n",
    "    with torch.no_grad():\n",
    "        w1 -= learning_rate*w1.grad\n",
    "        w2 -= learning_rate*w2.grad\n",
    "        \n",
    "        b1 -= learning_rate*b1.grad\n",
    "        b2 -= learning_rate*b2.grad\n",
    "        \n",
    "        w1.grad.zero_()\n",
    "        w2.grad.zero_()\n",
    "        b1.grad.zero_()\n",
    "        b2.grad.zero_()"
   ]
  },
  {
   "cell_type": "code",
   "execution_count": 10,
   "metadata": {},
   "outputs": [
    {
     "name": "stdout",
     "output_type": "stream",
     "text": [
      "torch.Size([300, 3])\n"
     ]
    }
   ],
   "source": [
    "prediction = w2.mm(w1.mm(Xtest).clamp(min=0))\n",
    "prediction = prediction.T\n",
    "print(prediction.shape)"
   ]
  },
  {
   "cell_type": "code",
   "execution_count": 11,
   "metadata": {},
   "outputs": [],
   "source": [
    "pred = open(\"/home/burrito/Documents/python/pytorch/Python-net/color_classifier/pred_s.csv\", 'w', newline='')\n",
    "writer = csv.writer(pred)\n",
    "writer.writerow([\"color\"])\n",
    "for i in prediction:\n",
    "    value, index = torch.max(i, 0)\n",
    "    writer.writerow([index])"
   ]
  },
  {
   "cell_type": "code",
   "execution_count": null,
   "metadata": {},
   "outputs": [],
   "source": []
  }
 ],
 "metadata": {
  "kernelspec": {
   "display_name": "Python 3",
   "language": "python",
   "name": "python3"
  },
  "language_info": {
   "codemirror_mode": {
    "name": "ipython",
    "version": 3
   },
   "file_extension": ".py",
   "mimetype": "text/x-python",
   "name": "python",
   "nbconvert_exporter": "python",
   "pygments_lexer": "ipython3",
   "version": "3.7.4"
  }
 },
 "nbformat": 4,
 "nbformat_minor": 4
}
