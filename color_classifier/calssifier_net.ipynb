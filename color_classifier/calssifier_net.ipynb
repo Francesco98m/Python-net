{
 "cells": [
  {
   "cell_type": "code",
   "execution_count": 1,
   "metadata": {},
   "outputs": [],
   "source": [
    "import torch\n",
    "import numpy as np\n",
    "import pandas as pd\n",
    "import random as rd\n",
    "import csv"
   ]
  },
  {
   "cell_type": "code",
   "execution_count": 2,
   "metadata": {},
   "outputs": [],
   "source": [
    "# default stuff\n",
    "dtype = torch.double\n",
    "device = torch.device(\"cpu\")\n",
    "\n",
    "# architecture definition\n",
    "N_in, N_hid, N_out = 2, 10, 4\n",
    "batch_size = 200\n",
    "learning_rate = 1e-6\n",
    "\n",
    "#weight matrix\n",
    "w1 = torch.randn(N_in, N_hid, device=device, dtype=dtype, requires_grad=True)\n",
    "w2 = torch.randn(N_hid, N_out, device=device, dtype=dtype, requires_grad=True)"
   ]
  },
  {
   "cell_type": "code",
   "execution_count": 3,
   "metadata": {},
   "outputs": [],
   "source": [
    "# data manipulation\n",
    "# ho cambiato il file così ora sono 0 e 1 i colori\n",
    "data = pd.read_csv('/home/burrito/Documents/python/pytorch/green_red/data_train_4.csv')\n",
    "test = pd.read_csv('/home/burrito/Documents/python/pytorch/green_red/data_test_4.csv')\n",
    "data_np_x = data[['x', 'y']].to_numpy()\n",
    "data_np_y = data[['color']].to_numpy()\n",
    "data_test = test.to_numpy()"
   ]
  },
  {
   "cell_type": "code",
   "execution_count": 4,
   "metadata": {},
   "outputs": [],
   "source": [
    "batchesX = np.asarray(np.array_split(data_np_x, 100))\n",
    "batchesY = np.asarray(np.array_split(data_np_y, 100))"
   ]
  },
  {
   "cell_type": "code",
   "execution_count": 5,
   "metadata": {},
   "outputs": [],
   "source": [
    "Xtr = torch.from_numpy(batchesX[2])\n",
    "Ytr = torch.from_numpy(batchesY[2])\n",
    "Xtest = torch.from_numpy(data_test)"
   ]
  },
  {
   "cell_type": "code",
   "execution_count": 6,
   "metadata": {},
   "outputs": [
    {
     "name": "stdout",
     "output_type": "stream",
     "text": [
      "0 8.815787759193213\n",
      "10000 8.689655124594147\n",
      "20000 9.076441298993608\n",
      "30000 8.595716133678977\n",
      "40000 8.946040627723717\n",
      "50000 8.822356147872082\n",
      "60000 8.63889009260031\n",
      "70000 8.18081907854684\n",
      "80000 8.596850367193728\n",
      "90000 8.32880976093098\n"
     ]
    }
   ],
   "source": [
    "for epoch in range(100000):\n",
    "    b = rd.randint(0, 99)\n",
    "    Xtr = torch.from_numpy(batchesX[b])\n",
    "    Ytr = torch.from_numpy(batchesY[b])\n",
    "    y = Xtr.mm(w1).clamp(min=0).mm(w2)\n",
    "    # ho provato a fare la cross-entropy ma non va, la \n",
    "    # la loss viene sempre uguale\n",
    "    s = torch.gather(y, 1, Ytr) # gather serve a indicizzare y in base a Ytr\n",
    "    loss = ((-((s.exp())/(y.exp().sum())).log())).sum()\n",
    "    # questo valore qui sotto è a caso ma dovrebbe essere circa la lunghezza\n",
    "    # di una batch\n",
    "    loss = loss/100\n",
    "    if epoch%10000 == 0:\n",
    "        print(epoch, loss.item())\n",
    "    loss.backward()\n",
    "    with torch.no_grad():\n",
    "        w1 -= learning_rate*w1.grad\n",
    "        w2 -= learning_rate*w2.grad\n",
    "        w1.grad.zero_()\n",
    "        w2.grad.zero_()"
   ]
  },
  {
   "cell_type": "code",
   "execution_count": 7,
   "metadata": {},
   "outputs": [
    {
     "name": "stdout",
     "output_type": "stream",
     "text": [
      "tensor([0.9929, 0.1523], dtype=torch.float64)\n"
     ]
    }
   ],
   "source": [
    "prediction = Xtest.mm(w1).clamp(min=0).mm(w2)"
   ]
  },
  {
   "cell_type": "code",
   "execution_count": 10,
   "metadata": {},
   "outputs": [],
   "source": [
    "pred = open(\"/home/burrito/Documents/python/pytorch/green_red/pred_4.csv\", 'w+', newline='')\n",
    "writer = csv.writer(pred)\n",
    "writer.writerow([\"color\"])\n",
    "for i in prediction:\n",
    "    value, index = torch.max(i, 0)\n",
    "    writer.writerow([index])"
   ]
  },
  {
   "cell_type": "code",
   "execution_count": null,
   "metadata": {},
   "outputs": [],
   "source": []
  }
 ],
 "metadata": {
  "kernelspec": {
   "display_name": "Python 3",
   "language": "python",
   "name": "python3"
  },
  "language_info": {
   "codemirror_mode": {
    "name": "ipython",
    "version": 3
   },
   "file_extension": ".py",
   "mimetype": "text/x-python",
   "name": "python",
   "nbconvert_exporter": "python",
   "pygments_lexer": "ipython3",
   "version": "3.7.4"
  }
 },
 "nbformat": 4,
 "nbformat_minor": 4
}
