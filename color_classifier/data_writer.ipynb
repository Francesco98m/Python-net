{
 "cells": [
  {
   "cell_type": "code",
   "execution_count": 1,
   "metadata": {},
   "outputs": [],
   "source": [
    "import random\n",
    "import csv"
   ]
  },
  {
   "cell_type": "code",
   "execution_count": 2,
   "metadata": {},
   "outputs": [
    {
     "data": {
      "text/plain": [
       "5"
      ]
     },
     "execution_count": 2,
     "metadata": {},
     "output_type": "execute_result"
    }
   ],
   "source": [
    "train = open(\"/home/burrito/Documents/python/pytorch/green_red/data_train_4.csv\", 'w+', newline='')\n",
    "test = open(\"/home/burrito/Documents/python/pytorch/green_red/data_test_4.csv\", 'w+', newline='')\n",
    "writer = csv.writer(train)\n",
    "writer.writerow([\"x\", \"y\", \"color\"])\n",
    "writer_1 = csv.writer(test)\n",
    "writer_1.writerow([\"x\", \"y\"])"
   ]
  },
  {
   "cell_type": "code",
   "execution_count": 5,
   "metadata": {},
   "outputs": [],
   "source": [
    "for i in range(10000):\n",
    "    x = random.uniform(-1., 1.)\n",
    "    y = random.uniform(-1, 1.)\n",
    "    if (x < 0) and (y < 0):\n",
    "        color = 0 \n",
    "    elif (x < 0) and (y > 0):\n",
    "        color = 1\n",
    "    elif (x > 0) and (y > 0):\n",
    "        color = 2\n",
    "    else:\n",
    "        color = 3\n",
    "    if ((x > -0.15 and x < 0.15)and (random.randint(0, 20))):\n",
    "        if (color == 0):\n",
    "            color = 3\n",
    "        elif ( color ==3 ):\n",
    "            color = 0\n",
    "        elif(color == 1):\n",
    "            color = 2\n",
    "        else:\n",
    "            color = 1\n",
    "    if ((y > -0.15 and y < 0.15)and (random.randint(0, 20))):\n",
    "        if (color == 0):\n",
    "            color = 1\n",
    "        elif ( color == 1 ):\n",
    "            color = 0\n",
    "        elif(color == 2):\n",
    "            color = 3\n",
    "        else:\n",
    "            color = 2\n",
    "    writer.writerow([x, y, color])\n",
    "for i in range(10000):\n",
    "    x = random.uniform(-1., 1.)\n",
    "    y = random.uniform(-1, 1.)\n",
    "    writer_1.writerow([x, y])"
   ]
  },
  {
   "cell_type": "code",
   "execution_count": null,
   "metadata": {},
   "outputs": [],
   "source": []
  }
 ],
 "metadata": {
  "kernelspec": {
   "display_name": "Python 3",
   "language": "python",
   "name": "python3"
  },
  "language_info": {
   "codemirror_mode": {
    "name": "ipython",
    "version": 3
   },
   "file_extension": ".py",
   "mimetype": "text/x-python",
   "name": "python",
   "nbconvert_exporter": "python",
   "pygments_lexer": "ipython3",
   "version": "3.7.4"
  }
 },
 "nbformat": 4,
 "nbformat_minor": 4
}
