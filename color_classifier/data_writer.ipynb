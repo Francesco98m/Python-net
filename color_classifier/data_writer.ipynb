{
 "cells": [
  {
   "cell_type": "code",
   "execution_count": 34,
   "metadata": {},
   "outputs": [],
   "source": [
    "import random\n",
    "import pandas as pd\n",
    "import numpy as np"
   ]
  },
  {
   "cell_type": "code",
   "execution_count": 35,
   "metadata": {},
   "outputs": [],
   "source": [
    "train = \"/home/burrito/Documents/python/pytorch/Python-net/color_classifier/data_train_s.csv\"\n",
    "test = \"/home/burrito/Documents/python/pytorch/Python-net/color_classifier/data_test_s.csv\""
   ]
  },
  {
   "cell_type": "code",
   "execution_count": 36,
   "metadata": {},
   "outputs": [],
   "source": [
    "np.random.seed(0)\n",
    "N = 100 # number of points\n",
    "D = 2\n",
    "K = 3\n",
    "X = np.zeros((N*K, D))\n",
    "y = np.zeros(N*K, dtype='int')\n",
    "file = np.zeros((N*K, 3))\n",
    "file2 = np.zeros((N*K, 2))\n",
    "for i in range(K):\n",
    "    j = list(range(N*i, N*(i+1)))\n",
    "    r = np.linspace(0.0, 1.0, N)\n",
    "    t = np.linspace(4*i, 4*(i+1), N) + np.random.randn(N)*0.2\n",
    "    X[j] = np.c_[r*np.cos(t), r*np.sin(t)]\n",
    "    y[j] = i\n",
    "file[:, 0] = X[:, 0]\n",
    "file[:, 1] = X[:, 1]\n",
    "file[:, 2] = y\n",
    "pd.DataFrame(file).to_csv(train)"
   ]
  },
  {
   "cell_type": "code",
   "execution_count": 37,
   "metadata": {},
   "outputs": [],
   "source": [
    "for i in range(K):\n",
    "    j = list(range(N*i, N*(i+1)))\n",
    "    r = np.linspace(0.0, 1.0, N)\n",
    "    t = np.linspace(4*i, 4*(i+1), N) + np.random.randn(N)*0.2\n",
    "    X[j] = np.c_[r*np.cos(t), r*np.sin(t)]\n",
    "file2[:, 0] = X[:, 0]\n",
    "file2[:, 1] = X[:, 1]\n",
    "pd.DataFrame(file2).to_csv(test)"
   ]
  },
  {
   "cell_type": "code",
   "execution_count": null,
   "metadata": {},
   "outputs": [],
   "source": [
    "'''\n",
    "for i in range(10000):\n",
    "    x = random.uniform(-1., 1.)\n",
    "    y = random.uniform(-1, 1.)\n",
    "    if (x < 0) and (y < 0):\n",
    "        color = 0 \n",
    "    elif (x < 0) and (y > 0):\n",
    "        color = 1\n",
    "    elif (x > 0) and (y > 0):\n",
    "        color = 2\n",
    "    else:\n",
    "        color = 3\n",
    "    if ((x > -0.15 and x < 0.15) and (random.randint(0, 100) < 20)):\n",
    "        if (color == 0):\n",
    "            color = 3\n",
    "        elif ( color == 3 ):\n",
    "            color = 0\n",
    "        elif(color == 1):\n",
    "            color = 2\n",
    "        else:\n",
    "            color = 1\n",
    "    if ((y > -0.15 and y < 0.15)and (random.randint(0, 100) < 20)):\n",
    "        if (color == 0):\n",
    "            color = 1\n",
    "        elif ( color == 1 ):\n",
    "            color = 0\n",
    "        elif(color == 2):\n",
    "            color = 3\n",
    "        else:\n",
    "            color = 2\n",
    "    writer.writerow([x, y, color])\n",
    "for i in range(10000):\n",
    "    x = random.uniform(-1., 1.)\n",
    "    y = random.uniform(-1, 1.)\n",
    "    writer_1.writerow([x, y])\n",
    "    '''"
   ]
  },
  {
   "cell_type": "code",
   "execution_count": null,
   "metadata": {},
   "outputs": [],
   "source": []
  },
  {
   "cell_type": "code",
   "execution_count": null,
   "metadata": {},
   "outputs": [],
   "source": []
  }
 ],
 "metadata": {
  "kernelspec": {
   "display_name": "Python 3",
   "language": "python",
   "name": "python3"
  },
  "language_info": {
   "codemirror_mode": {
    "name": "ipython",
    "version": 3
   },
   "file_extension": ".py",
   "mimetype": "text/x-python",
   "name": "python",
   "nbconvert_exporter": "python",
   "pygments_lexer": "ipython3",
   "version": "3.7.4"
  }
 },
 "nbformat": 4,
 "nbformat_minor": 4
}
